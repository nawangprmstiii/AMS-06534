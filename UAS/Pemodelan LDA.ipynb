{
 "cells": [
  {
   "cell_type": "markdown",
   "id": "5cf04a69",
   "metadata": {},
   "source": [
    "## Nawang Pramesti Adji - A12.2020.06534"
   ]
  },
  {
   "cell_type": "markdown",
   "id": "8554f93d",
   "metadata": {},
   "source": [
    "#### 2. Topic Modelling Metode (Topik dari tiap sentimen yang didapatkan)\n",
    "- Jelaskan metode yang digunakan (LDA/LSA/PLSA atau yang lain). Dijelaskan juga alasan memakai metode tsb.\n",
    "-  Menjelaskan coding dan hasilnya"
   ]
  },
  {
   "cell_type": "code",
   "execution_count": 45,
   "id": "a5c80bc7",
   "metadata": {},
   "outputs": [
    {
     "name": "stdout",
     "output_type": "stream",
     "text": [
      "Defaulting to user installation because normal site-packages is not writeable\n",
      "Requirement already satisfied: gensim in c:\\users\\asus\\appdata\\roaming\\python\\python39\\site-packages (4.3.0)\n",
      "Requirement already satisfied: smart-open>=1.8.1 in c:\\programdata\\anaconda3\\lib\\site-packages (from gensim) (5.1.0)\n",
      "Requirement already satisfied: FuzzyTM>=0.4.0 in c:\\users\\asus\\appdata\\roaming\\python\\python39\\site-packages (from gensim) (2.0.5)\n",
      "Requirement already satisfied: numpy>=1.18.5 in c:\\users\\asus\\appdata\\roaming\\python\\python39\\site-packages (from gensim) (1.22.4)\n",
      "Requirement already satisfied: scipy>=1.7.0 in c:\\programdata\\anaconda3\\lib\\site-packages (from gensim) (1.7.3)\n",
      "Requirement already satisfied: Cython==0.29.32 in c:\\users\\asus\\appdata\\roaming\\python\\python39\\site-packages (from gensim) (0.29.32)\n",
      "Requirement already satisfied: pandas in c:\\programdata\\anaconda3\\lib\\site-packages (from FuzzyTM>=0.4.0->gensim) (1.4.2)\n",
      "Requirement already satisfied: pyfume in c:\\users\\asus\\appdata\\roaming\\python\\python39\\site-packages (from FuzzyTM>=0.4.0->gensim) (0.2.25)\n",
      "Requirement already satisfied: python-dateutil>=2.8.1 in c:\\programdata\\anaconda3\\lib\\site-packages (from pandas->FuzzyTM>=0.4.0->gensim) (2.8.2)\n",
      "Requirement already satisfied: pytz>=2020.1 in c:\\programdata\\anaconda3\\lib\\site-packages (from pandas->FuzzyTM>=0.4.0->gensim) (2021.3)\n",
      "Requirement already satisfied: six>=1.5 in c:\\programdata\\anaconda3\\lib\\site-packages (from python-dateutil>=2.8.1->pandas->FuzzyTM>=0.4.0->gensim) (1.16.0)\n",
      "Requirement already satisfied: simpful in c:\\users\\asus\\appdata\\roaming\\python\\python39\\site-packages (from pyfume->FuzzyTM>=0.4.0->gensim) (2.9.0)\n",
      "Requirement already satisfied: fst-pso in c:\\users\\asus\\appdata\\roaming\\python\\python39\\site-packages (from pyfume->FuzzyTM>=0.4.0->gensim) (1.8.1)\n",
      "Requirement already satisfied: miniful in c:\\users\\asus\\appdata\\roaming\\python\\python39\\site-packages (from fst-pso->pyfume->FuzzyTM>=0.4.0->gensim) (0.0.6)\n",
      "Requirement already satisfied: requests in c:\\programdata\\anaconda3\\lib\\site-packages (from simpful->pyfume->FuzzyTM>=0.4.0->gensim) (2.27.1)\n",
      "Requirement already satisfied: idna<4,>=2.5 in c:\\programdata\\anaconda3\\lib\\site-packages (from requests->simpful->pyfume->FuzzyTM>=0.4.0->gensim) (3.3)\n",
      "Requirement already satisfied: urllib3<1.27,>=1.21.1 in c:\\programdata\\anaconda3\\lib\\site-packages (from requests->simpful->pyfume->FuzzyTM>=0.4.0->gensim) (1.26.9)\n",
      "Requirement already satisfied: charset-normalizer~=2.0.0 in c:\\programdata\\anaconda3\\lib\\site-packages (from requests->simpful->pyfume->FuzzyTM>=0.4.0->gensim) (2.0.4)\n",
      "Requirement already satisfied: certifi>=2017.4.17 in c:\\programdata\\anaconda3\\lib\\site-packages (from requests->simpful->pyfume->FuzzyTM>=0.4.0->gensim) (2021.10.8)\n"
     ]
    }
   ],
   "source": [
    "!pip install --upgrade gensim"
   ]
  },
  {
   "cell_type": "code",
   "execution_count": 2,
   "id": "ed04947a",
   "metadata": {},
   "outputs": [
    {
     "name": "stdout",
     "output_type": "stream",
     "text": [
      "Defaulting to user installation because normal site-packages is not writeable\n",
      "Requirement already satisfied: pyldavis==3.2.1 in c:\\users\\asus\\appdata\\roaming\\python\\python39\\site-packages (3.2.1)\n",
      "Requirement already satisfied: numpy>=1.9.2 in c:\\users\\asus\\appdata\\roaming\\python\\python39\\site-packages (from pyldavis==3.2.1) (1.22.4)\n",
      "Requirement already satisfied: scipy>=0.18.0 in c:\\programdata\\anaconda3\\lib\\site-packages (from pyldavis==3.2.1) (1.7.3)\n",
      "Requirement already satisfied: funcy in c:\\users\\asus\\appdata\\roaming\\python\\python39\\site-packages (from pyldavis==3.2.1) (1.17)\n",
      "Requirement already satisfied: pandas>=0.17.0 in c:\\programdata\\anaconda3\\lib\\site-packages (from pyldavis==3.2.1) (1.4.2)\n",
      "Requirement already satisfied: joblib>=0.8.4 in c:\\programdata\\anaconda3\\lib\\site-packages (from pyldavis==3.2.1) (1.1.0)\n",
      "Requirement already satisfied: jinja2>=2.7.2 in c:\\programdata\\anaconda3\\lib\\site-packages (from pyldavis==3.2.1) (2.11.3)\n",
      "Requirement already satisfied: future in c:\\programdata\\anaconda3\\lib\\site-packages (from pyldavis==3.2.1) (0.18.2)\n",
      "Requirement already satisfied: wheel>=0.23.0 in c:\\programdata\\anaconda3\\lib\\site-packages (from pyldavis==3.2.1) (0.37.1)\n",
      "Requirement already satisfied: numexpr in c:\\programdata\\anaconda3\\lib\\site-packages (from pyldavis==3.2.1) (2.8.1)\n",
      "Requirement already satisfied: MarkupSafe>=0.23 in c:\\programdata\\anaconda3\\lib\\site-packages (from jinja2>=2.7.2->pyldavis==3.2.1) (2.0.1)\n",
      "Requirement already satisfied: python-dateutil>=2.8.1 in c:\\programdata\\anaconda3\\lib\\site-packages (from pandas>=0.17.0->pyldavis==3.2.1) (2.8.2)\n",
      "Requirement already satisfied: pytz>=2020.1 in c:\\programdata\\anaconda3\\lib\\site-packages (from pandas>=0.17.0->pyldavis==3.2.1) (2021.3)\n",
      "Requirement already satisfied: six>=1.5 in c:\\programdata\\anaconda3\\lib\\site-packages (from python-dateutil>=2.8.1->pandas>=0.17.0->pyldavis==3.2.1) (1.16.0)\n",
      "Requirement already satisfied: packaging in c:\\programdata\\anaconda3\\lib\\site-packages (from numexpr->pyldavis==3.2.1) (21.3)\n",
      "Requirement already satisfied: pyparsing!=3.0.5,>=2.0.2 in c:\\programdata\\anaconda3\\lib\\site-packages (from packaging->numexpr->pyldavis==3.2.1) (3.0.4)\n"
     ]
    }
   ],
   "source": [
    "!pip install pyldavis==3.2.1"
   ]
  },
  {
   "cell_type": "code",
   "execution_count": 3,
   "id": "163191c1",
   "metadata": {},
   "outputs": [
    {
     "name": "stdout",
     "output_type": "stream",
     "text": [
      "Defaulting to user installation because normal site-packages is not writeable\n",
      "Requirement already satisfied: Sastrawi in c:\\users\\asus\\appdata\\roaming\\python\\python39\\site-packages (1.0.1)\n"
     ]
    }
   ],
   "source": [
    "!pip install Sastrawi"
   ]
  },
  {
   "cell_type": "code",
   "execution_count": 4,
   "id": "a08db2e9",
   "metadata": {},
   "outputs": [
    {
     "name": "stdout",
     "output_type": "stream",
     "text": [
      "Defaulting to user installation because normal site-packages is not writeable\n",
      "Requirement already satisfied: swifter in c:\\users\\asus\\appdata\\roaming\\python\\python39\\site-packages (1.3.4)\n",
      "Requirement already satisfied: ipywidgets>=7.0.0 in c:\\programdata\\anaconda3\\lib\\site-packages (from swifter) (7.6.5)\n",
      "Requirement already satisfied: parso>0.4.0 in c:\\programdata\\anaconda3\\lib\\site-packages (from swifter) (0.8.3)\n",
      "Requirement already satisfied: tqdm>=4.33.0 in c:\\programdata\\anaconda3\\lib\\site-packages (from swifter) (4.64.0)\n",
      "Requirement already satisfied: cloudpickle>=0.2.2 in c:\\programdata\\anaconda3\\lib\\site-packages (from swifter) (2.0.0)\n",
      "Requirement already satisfied: dask[dataframe]>=2.10.0 in c:\\programdata\\anaconda3\\lib\\site-packages (from swifter) (2022.2.1)\n",
      "Requirement already satisfied: pandas>=1.0.0 in c:\\programdata\\anaconda3\\lib\\site-packages (from swifter) (1.4.2)\n",
      "Requirement already satisfied: bleach>=3.1.1 in c:\\programdata\\anaconda3\\lib\\site-packages (from swifter) (4.1.0)\n",
      "Requirement already satisfied: psutil>=5.6.6 in c:\\programdata\\anaconda3\\lib\\site-packages (from swifter) (5.8.0)\n",
      "Requirement already satisfied: six>=1.9.0 in c:\\programdata\\anaconda3\\lib\\site-packages (from bleach>=3.1.1->swifter) (1.16.0)\n",
      "Requirement already satisfied: packaging in c:\\programdata\\anaconda3\\lib\\site-packages (from bleach>=3.1.1->swifter) (21.3)\n",
      "Requirement already satisfied: webencodings in c:\\programdata\\anaconda3\\lib\\site-packages (from bleach>=3.1.1->swifter) (0.5.1)\n",
      "Requirement already satisfied: fsspec>=0.6.0 in c:\\programdata\\anaconda3\\lib\\site-packages (from dask[dataframe]>=2.10.0->swifter) (2022.2.0)\n",
      "Requirement already satisfied: partd>=0.3.10 in c:\\programdata\\anaconda3\\lib\\site-packages (from dask[dataframe]>=2.10.0->swifter) (1.2.0)\n",
      "Requirement already satisfied: pyyaml>=5.3.1 in c:\\programdata\\anaconda3\\lib\\site-packages (from dask[dataframe]>=2.10.0->swifter) (6.0)\n",
      "Requirement already satisfied: toolz>=0.8.2 in c:\\programdata\\anaconda3\\lib\\site-packages (from dask[dataframe]>=2.10.0->swifter) (0.11.2)\n",
      "Requirement already satisfied: numpy>=1.18 in c:\\users\\asus\\appdata\\roaming\\python\\python39\\site-packages (from dask[dataframe]>=2.10.0->swifter) (1.22.4)\n",
      "Requirement already satisfied: ipython>=4.0.0 in c:\\programdata\\anaconda3\\lib\\site-packages (from ipywidgets>=7.0.0->swifter) (8.2.0)\n",
      "Requirement already satisfied: jupyterlab-widgets>=1.0.0 in c:\\programdata\\anaconda3\\lib\\site-packages (from ipywidgets>=7.0.0->swifter) (1.0.0)\n",
      "Requirement already satisfied: nbformat>=4.2.0 in c:\\programdata\\anaconda3\\lib\\site-packages (from ipywidgets>=7.0.0->swifter) (5.3.0)\n",
      "Requirement already satisfied: traitlets>=4.3.1 in c:\\programdata\\anaconda3\\lib\\site-packages (from ipywidgets>=7.0.0->swifter) (5.1.1)\n",
      "Requirement already satisfied: ipython-genutils~=0.2.0 in c:\\programdata\\anaconda3\\lib\\site-packages (from ipywidgets>=7.0.0->swifter) (0.2.0)\n",
      "Requirement already satisfied: widgetsnbextension~=3.5.0 in c:\\programdata\\anaconda3\\lib\\site-packages (from ipywidgets>=7.0.0->swifter) (3.5.2)\n",
      "Requirement already satisfied: ipykernel>=4.5.1 in c:\\programdata\\anaconda3\\lib\\site-packages (from ipywidgets>=7.0.0->swifter) (6.9.1)\n",
      "Requirement already satisfied: tornado<7.0,>=4.2 in c:\\programdata\\anaconda3\\lib\\site-packages (from ipykernel>=4.5.1->ipywidgets>=7.0.0->swifter) (6.1)\n",
      "Requirement already satisfied: nest-asyncio in c:\\programdata\\anaconda3\\lib\\site-packages (from ipykernel>=4.5.1->ipywidgets>=7.0.0->swifter) (1.5.5)\n",
      "Requirement already satisfied: matplotlib-inline<0.2.0,>=0.1.0 in c:\\programdata\\anaconda3\\lib\\site-packages (from ipykernel>=4.5.1->ipywidgets>=7.0.0->swifter) (0.1.2)\n",
      "Requirement already satisfied: debugpy<2.0,>=1.0.0 in c:\\programdata\\anaconda3\\lib\\site-packages (from ipykernel>=4.5.1->ipywidgets>=7.0.0->swifter) (1.5.1)\n",
      "Requirement already satisfied: jupyter-client<8.0 in c:\\programdata\\anaconda3\\lib\\site-packages (from ipykernel>=4.5.1->ipywidgets>=7.0.0->swifter) (6.1.12)\n",
      "Requirement already satisfied: setuptools>=18.5 in c:\\programdata\\anaconda3\\lib\\site-packages (from ipython>=4.0.0->ipywidgets>=7.0.0->swifter) (61.2.0)\n",
      "Requirement already satisfied: pickleshare in c:\\programdata\\anaconda3\\lib\\site-packages (from ipython>=4.0.0->ipywidgets>=7.0.0->swifter) (0.7.5)\n",
      "Requirement already satisfied: stack-data in c:\\programdata\\anaconda3\\lib\\site-packages (from ipython>=4.0.0->ipywidgets>=7.0.0->swifter) (0.2.0)\n",
      "Requirement already satisfied: prompt-toolkit!=3.0.0,!=3.0.1,<3.1.0,>=2.0.0 in c:\\programdata\\anaconda3\\lib\\site-packages (from ipython>=4.0.0->ipywidgets>=7.0.0->swifter) (3.0.20)\n",
      "Requirement already satisfied: jedi>=0.16 in c:\\programdata\\anaconda3\\lib\\site-packages (from ipython>=4.0.0->ipywidgets>=7.0.0->swifter) (0.18.1)\n",
      "Requirement already satisfied: colorama in c:\\programdata\\anaconda3\\lib\\site-packages (from ipython>=4.0.0->ipywidgets>=7.0.0->swifter) (0.4.4)\n",
      "Requirement already satisfied: pygments>=2.4.0 in c:\\programdata\\anaconda3\\lib\\site-packages (from ipython>=4.0.0->ipywidgets>=7.0.0->swifter) (2.11.2)\n",
      "Requirement already satisfied: backcall in c:\\programdata\\anaconda3\\lib\\site-packages (from ipython>=4.0.0->ipywidgets>=7.0.0->swifter) (0.2.0)\n",
      "Requirement already satisfied: decorator in c:\\programdata\\anaconda3\\lib\\site-packages (from ipython>=4.0.0->ipywidgets>=7.0.0->swifter) (5.1.1)\n",
      "Requirement already satisfied: jupyter-core>=4.6.0 in c:\\programdata\\anaconda3\\lib\\site-packages (from jupyter-client<8.0->ipykernel>=4.5.1->ipywidgets>=7.0.0->swifter) (4.9.2)\n",
      "Requirement already satisfied: python-dateutil>=2.1 in c:\\programdata\\anaconda3\\lib\\site-packages (from jupyter-client<8.0->ipykernel>=4.5.1->ipywidgets>=7.0.0->swifter) (2.8.2)\n",
      "Requirement already satisfied: pyzmq>=13 in c:\\programdata\\anaconda3\\lib\\site-packages (from jupyter-client<8.0->ipykernel>=4.5.1->ipywidgets>=7.0.0->swifter) (22.3.0)\n",
      "Requirement already satisfied: pywin32>=1.0 in c:\\programdata\\anaconda3\\lib\\site-packages (from jupyter-core>=4.6.0->jupyter-client<8.0->ipykernel>=4.5.1->ipywidgets>=7.0.0->swifter) (302)\n",
      "Requirement already satisfied: jsonschema>=2.6 in c:\\programdata\\anaconda3\\lib\\site-packages (from nbformat>=4.2.0->ipywidgets>=7.0.0->swifter) (4.4.0)\n",
      "Requirement already satisfied: fastjsonschema in c:\\programdata\\anaconda3\\lib\\site-packages (from nbformat>=4.2.0->ipywidgets>=7.0.0->swifter) (2.15.1)\n",
      "Requirement already satisfied: attrs>=17.4.0 in c:\\programdata\\anaconda3\\lib\\site-packages (from jsonschema>=2.6->nbformat>=4.2.0->ipywidgets>=7.0.0->swifter) (21.4.0)\n",
      "Requirement already satisfied: pyrsistent!=0.17.0,!=0.17.1,!=0.17.2,>=0.14.0 in c:\\programdata\\anaconda3\\lib\\site-packages (from jsonschema>=2.6->nbformat>=4.2.0->ipywidgets>=7.0.0->swifter) (0.18.0)\n",
      "Requirement already satisfied: pyparsing!=3.0.5,>=2.0.2 in c:\\programdata\\anaconda3\\lib\\site-packages (from packaging->bleach>=3.1.1->swifter) (3.0.4)\n",
      "Requirement already satisfied: pytz>=2020.1 in c:\\programdata\\anaconda3\\lib\\site-packages (from pandas>=1.0.0->swifter) (2021.3)\n",
      "Requirement already satisfied: locket in c:\\programdata\\anaconda3\\lib\\site-packages (from partd>=0.3.10->dask[dataframe]>=2.10.0->swifter) (0.2.1)\n",
      "Requirement already satisfied: wcwidth in c:\\programdata\\anaconda3\\lib\\site-packages (from prompt-toolkit!=3.0.0,!=3.0.1,<3.1.0,>=2.0.0->ipython>=4.0.0->ipywidgets>=7.0.0->swifter) (0.2.5)\n",
      "Requirement already satisfied: notebook>=4.4.1 in c:\\programdata\\anaconda3\\lib\\site-packages (from widgetsnbextension~=3.5.0->ipywidgets>=7.0.0->swifter) (6.4.8)\n",
      "Requirement already satisfied: argon2-cffi in c:\\programdata\\anaconda3\\lib\\site-packages (from notebook>=4.4.1->widgetsnbextension~=3.5.0->ipywidgets>=7.0.0->swifter) (21.3.0)\n",
      "Requirement already satisfied: Send2Trash>=1.8.0 in c:\\programdata\\anaconda3\\lib\\site-packages (from notebook>=4.4.1->widgetsnbextension~=3.5.0->ipywidgets>=7.0.0->swifter) (1.8.0)\n",
      "Requirement already satisfied: prometheus-client in c:\\programdata\\anaconda3\\lib\\site-packages (from notebook>=4.4.1->widgetsnbextension~=3.5.0->ipywidgets>=7.0.0->swifter) (0.13.1)\n",
      "Requirement already satisfied: nbconvert in c:\\programdata\\anaconda3\\lib\\site-packages (from notebook>=4.4.1->widgetsnbextension~=3.5.0->ipywidgets>=7.0.0->swifter) (6.4.4)\n",
      "Requirement already satisfied: terminado>=0.8.3 in c:\\programdata\\anaconda3\\lib\\site-packages (from notebook>=4.4.1->widgetsnbextension~=3.5.0->ipywidgets>=7.0.0->swifter) (0.13.1)\n",
      "Requirement already satisfied: jinja2 in c:\\programdata\\anaconda3\\lib\\site-packages (from notebook>=4.4.1->widgetsnbextension~=3.5.0->ipywidgets>=7.0.0->swifter) (2.11.3)\n",
      "Requirement already satisfied: pywinpty>=1.1.0 in c:\\programdata\\anaconda3\\lib\\site-packages (from terminado>=0.8.3->notebook>=4.4.1->widgetsnbextension~=3.5.0->ipywidgets>=7.0.0->swifter) (2.0.2)\n",
      "Requirement already satisfied: argon2-cffi-bindings in c:\\programdata\\anaconda3\\lib\\site-packages (from argon2-cffi->notebook>=4.4.1->widgetsnbextension~=3.5.0->ipywidgets>=7.0.0->swifter) (21.2.0)\n",
      "Requirement already satisfied: cffi>=1.0.1 in c:\\programdata\\anaconda3\\lib\\site-packages (from argon2-cffi-bindings->argon2-cffi->notebook>=4.4.1->widgetsnbextension~=3.5.0->ipywidgets>=7.0.0->swifter) (1.15.0)\n"
     ]
    },
    {
     "name": "stdout",
     "output_type": "stream",
     "text": [
      "Requirement already satisfied: pycparser in c:\\programdata\\anaconda3\\lib\\site-packages (from cffi>=1.0.1->argon2-cffi-bindings->argon2-cffi->notebook>=4.4.1->widgetsnbextension~=3.5.0->ipywidgets>=7.0.0->swifter) (2.21)\n",
      "Requirement already satisfied: MarkupSafe>=0.23 in c:\\programdata\\anaconda3\\lib\\site-packages (from jinja2->notebook>=4.4.1->widgetsnbextension~=3.5.0->ipywidgets>=7.0.0->swifter) (2.0.1)\n",
      "Requirement already satisfied: jupyterlab-pygments in c:\\programdata\\anaconda3\\lib\\site-packages (from nbconvert->notebook>=4.4.1->widgetsnbextension~=3.5.0->ipywidgets>=7.0.0->swifter) (0.1.2)\n",
      "Requirement already satisfied: pandocfilters>=1.4.1 in c:\\programdata\\anaconda3\\lib\\site-packages (from nbconvert->notebook>=4.4.1->widgetsnbextension~=3.5.0->ipywidgets>=7.0.0->swifter) (1.5.0)\n",
      "Requirement already satisfied: defusedxml in c:\\programdata\\anaconda3\\lib\\site-packages (from nbconvert->notebook>=4.4.1->widgetsnbextension~=3.5.0->ipywidgets>=7.0.0->swifter) (0.7.1)\n",
      "Requirement already satisfied: beautifulsoup4 in c:\\programdata\\anaconda3\\lib\\site-packages (from nbconvert->notebook>=4.4.1->widgetsnbextension~=3.5.0->ipywidgets>=7.0.0->swifter) (4.11.1)\n",
      "Requirement already satisfied: nbclient<0.6.0,>=0.5.0 in c:\\programdata\\anaconda3\\lib\\site-packages (from nbconvert->notebook>=4.4.1->widgetsnbextension~=3.5.0->ipywidgets>=7.0.0->swifter) (0.5.13)\n",
      "Requirement already satisfied: testpath in c:\\programdata\\anaconda3\\lib\\site-packages (from nbconvert->notebook>=4.4.1->widgetsnbextension~=3.5.0->ipywidgets>=7.0.0->swifter) (0.5.0)\n",
      "Requirement already satisfied: entrypoints>=0.2.2 in c:\\programdata\\anaconda3\\lib\\site-packages (from nbconvert->notebook>=4.4.1->widgetsnbextension~=3.5.0->ipywidgets>=7.0.0->swifter) (0.4)\n",
      "Requirement already satisfied: mistune<2,>=0.8.1 in c:\\programdata\\anaconda3\\lib\\site-packages (from nbconvert->notebook>=4.4.1->widgetsnbextension~=3.5.0->ipywidgets>=7.0.0->swifter) (0.8.4)\n",
      "Requirement already satisfied: soupsieve>1.2 in c:\\programdata\\anaconda3\\lib\\site-packages (from beautifulsoup4->nbconvert->notebook>=4.4.1->widgetsnbextension~=3.5.0->ipywidgets>=7.0.0->swifter) (2.3.1)\n",
      "Requirement already satisfied: asttokens in c:\\programdata\\anaconda3\\lib\\site-packages (from stack-data->ipython>=4.0.0->ipywidgets>=7.0.0->swifter) (2.0.5)\n",
      "Requirement already satisfied: executing in c:\\programdata\\anaconda3\\lib\\site-packages (from stack-data->ipython>=4.0.0->ipywidgets>=7.0.0->swifter) (0.8.3)\n",
      "Requirement already satisfied: pure-eval in c:\\programdata\\anaconda3\\lib\\site-packages (from stack-data->ipython>=4.0.0->ipywidgets>=7.0.0->swifter) (0.2.2)\n"
     ]
    }
   ],
   "source": [
    "!pip install swifter"
   ]
  },
  {
   "cell_type": "code",
   "execution_count": 5,
   "id": "09915c55",
   "metadata": {},
   "outputs": [],
   "source": [
    "import pandas as pd\n",
    "import numpy as np\n",
    "import nltk"
   ]
  },
  {
   "cell_type": "code",
   "execution_count": 6,
   "id": "20289e2e",
   "metadata": {},
   "outputs": [],
   "source": [
    "dataSB = pd.read_csv('PB_ROBOT.csv')"
   ]
  },
  {
   "cell_type": "code",
   "execution_count": 7,
   "id": "4664c9b5",
   "metadata": {},
   "outputs": [
    {
     "data": {
      "text/html": [
       "<div>\n",
       "<style scoped>\n",
       "    .dataframe tbody tr th:only-of-type {\n",
       "        vertical-align: middle;\n",
       "    }\n",
       "\n",
       "    .dataframe tbody tr th {\n",
       "        vertical-align: top;\n",
       "    }\n",
       "\n",
       "    .dataframe thead th {\n",
       "        text-align: right;\n",
       "    }\n",
       "</style>\n",
       "<table border=\"1\" class=\"dataframe\">\n",
       "  <thead>\n",
       "    <tr style=\"text-align: right;\">\n",
       "      <th></th>\n",
       "      <th>username</th>\n",
       "      <th>bintang</th>\n",
       "      <th>review</th>\n",
       "    </tr>\n",
       "  </thead>\n",
       "  <tbody>\n",
       "    <tr>\n",
       "      <th>0</th>\n",
       "      <td>salonayu10</td>\n",
       "      <td>5</td>\n",
       "      <td>Alhamdulillah paketnya sudah sampai dgn aman\\n...</td>\n",
       "    </tr>\n",
       "    <tr>\n",
       "      <th>1</th>\n",
       "      <td>rubbyaqilla13</td>\n",
       "      <td>5</td>\n",
       "      <td>Alhamdulillah, pesanan saya sudah sampai nih k...</td>\n",
       "    </tr>\n",
       "    <tr>\n",
       "      <th>2</th>\n",
       "      <td>n*****1</td>\n",
       "      <td>2</td>\n",
       "      <td>pertama kali aku kasih bintang di bwh 4, tpi e...</td>\n",
       "    </tr>\n",
       "    <tr>\n",
       "      <th>3</th>\n",
       "      <td>erikatjhang</td>\n",
       "      <td>5</td>\n",
       "      <td>Pengiriman sangat cepat, padahal belinya pas l...</td>\n",
       "    </tr>\n",
       "    <tr>\n",
       "      <th>4</th>\n",
       "      <td>nandagiantari2002</td>\n",
       "      <td>5</td>\n",
       "      <td>Jika ingin menghubungi layanan PLN 123, kamu d...</td>\n",
       "    </tr>\n",
       "  </tbody>\n",
       "</table>\n",
       "</div>"
      ],
      "text/plain": [
       "            username  bintang  \\\n",
       "0         salonayu10        5   \n",
       "1      rubbyaqilla13        5   \n",
       "2            n*****1        2   \n",
       "3        erikatjhang        5   \n",
       "4  nandagiantari2002        5   \n",
       "\n",
       "                                              review  \n",
       "0  Alhamdulillah paketnya sudah sampai dgn aman\\n...  \n",
       "1  Alhamdulillah, pesanan saya sudah sampai nih k...  \n",
       "2  pertama kali aku kasih bintang di bwh 4, tpi e...  \n",
       "3  Pengiriman sangat cepat, padahal belinya pas l...  \n",
       "4  Jika ingin menghubungi layanan PLN 123, kamu d...  "
      ]
     },
     "execution_count": 7,
     "metadata": {},
     "output_type": "execute_result"
    }
   ],
   "source": [
    "dataSB.head()"
   ]
  },
  {
   "cell_type": "code",
   "execution_count": 8,
   "id": "88366935",
   "metadata": {},
   "outputs": [
    {
     "data": {
      "text/html": [
       "<div>\n",
       "<style scoped>\n",
       "    .dataframe tbody tr th:only-of-type {\n",
       "        vertical-align: middle;\n",
       "    }\n",
       "\n",
       "    .dataframe tbody tr th {\n",
       "        vertical-align: top;\n",
       "    }\n",
       "\n",
       "    .dataframe thead th {\n",
       "        text-align: right;\n",
       "    }\n",
       "</style>\n",
       "<table border=\"1\" class=\"dataframe\">\n",
       "  <thead>\n",
       "    <tr style=\"text-align: right;\">\n",
       "      <th></th>\n",
       "      <th>username</th>\n",
       "      <th>review</th>\n",
       "    </tr>\n",
       "  </thead>\n",
       "  <tbody>\n",
       "    <tr>\n",
       "      <th>0</th>\n",
       "      <td>salonayu10</td>\n",
       "      <td>Alhamdulillah paketnya sudah sampai dgn aman\\n...</td>\n",
       "    </tr>\n",
       "    <tr>\n",
       "      <th>1</th>\n",
       "      <td>rubbyaqilla13</td>\n",
       "      <td>Alhamdulillah, pesanan saya sudah sampai nih k...</td>\n",
       "    </tr>\n",
       "    <tr>\n",
       "      <th>2</th>\n",
       "      <td>n*****1</td>\n",
       "      <td>pertama kali aku kasih bintang di bwh 4, tpi e...</td>\n",
       "    </tr>\n",
       "    <tr>\n",
       "      <th>3</th>\n",
       "      <td>erikatjhang</td>\n",
       "      <td>Pengiriman sangat cepat, padahal belinya pas l...</td>\n",
       "    </tr>\n",
       "    <tr>\n",
       "      <th>4</th>\n",
       "      <td>nandagiantari2002</td>\n",
       "      <td>Jika ingin menghubungi layanan PLN 123, kamu d...</td>\n",
       "    </tr>\n",
       "  </tbody>\n",
       "</table>\n",
       "</div>"
      ],
      "text/plain": [
       "            username                                             review\n",
       "0         salonayu10  Alhamdulillah paketnya sudah sampai dgn aman\\n...\n",
       "1      rubbyaqilla13  Alhamdulillah, pesanan saya sudah sampai nih k...\n",
       "2            n*****1  pertama kali aku kasih bintang di bwh 4, tpi e...\n",
       "3        erikatjhang  Pengiriman sangat cepat, padahal belinya pas l...\n",
       "4  nandagiantari2002  Jika ingin menghubungi layanan PLN 123, kamu d..."
      ]
     },
     "execution_count": 8,
     "metadata": {},
     "output_type": "execute_result"
    }
   ],
   "source": [
    "dataSB = dataSB.drop(columns=['bintang'])\n",
    "dataSB.head()"
   ]
  },
  {
   "cell_type": "code",
   "execution_count": 9,
   "id": "18b9e6fe",
   "metadata": {},
   "outputs": [
    {
     "name": "stdout",
     "output_type": "stream",
     "text": [
      "Case Folding Result : \n",
      "\n",
      "0    alhamdulillah paketnya sudah sampai dgn aman\\n...\n",
      "1    alhamdulillah, pesanan saya sudah sampai nih k...\n",
      "2    pertama kali aku kasih bintang di bwh 4, tpi e...\n",
      "3    pengiriman sangat cepat, padahal belinya pas l...\n",
      "4    jika ingin menghubungi layanan pln 123, kamu d...\n",
      "Name: review, dtype: object\n"
     ]
    }
   ],
   "source": [
    "# ------ Case Folding ------\n",
    "# gunakan fungsi Series.str.lower() pada Pandas\n",
    "\n",
    "dataSB['review'] = dataSB['review'].str.lower()\n",
    "\n",
    "print('Case Folding Result : \\n')\n",
    "print(dataSB['review'].head(5))"
   ]
  },
  {
   "cell_type": "code",
   "execution_count": 10,
   "id": "06523664",
   "metadata": {},
   "outputs": [],
   "source": [
    "import string\n",
    "import re #regex library\n",
    "\n",
    "# import word_tokenize & FreqDist from NLTK\n",
    "from nltk.tokenize import word_tokenize\n",
    "from nltk.probability import FreqDist"
   ]
  },
  {
   "cell_type": "code",
   "execution_count": 11,
   "id": "c298d9db",
   "metadata": {},
   "outputs": [],
   "source": [
    "dataSB['review'] = dataSB['review'].astype(str)"
   ]
  },
  {
   "cell_type": "code",
   "execution_count": 15,
   "id": "0ff8c6b1",
   "metadata": {},
   "outputs": [
    {
     "name": "stderr",
     "output_type": "stream",
     "text": [
      "[nltk_data] Downloading package punkt to\n",
      "[nltk_data]     C:\\Users\\Asus\\AppData\\Roaming\\nltk_data...\n",
      "[nltk_data]   Package punkt is already up-to-date!\n"
     ]
    },
    {
     "name": "stdout",
     "output_type": "stream",
     "text": [
      "Tokenizing Result : \n",
      "\n",
      "0    [alhamdulillah, paketnya, sudah, sampai, dgn, ...\n",
      "1    [alhamdulillah, pesanan, saya, sudah, sampai, ...\n",
      "2    [pertama, kali, aku, kasih, bintang, di, bwh, ...\n",
      "3    [pengiriman, sangat, cepat, padahal, belinya, ...\n",
      "4    [jika, ingin, menghubungi, layanan, pln, kamu,...\n",
      "Name: textdata_tokens, dtype: object\n"
     ]
    }
   ],
   "source": [
    "# ------ Tokenizing ---------\n",
    "\n",
    "nltk.download('punkt')\n",
    "\n",
    "def remove_tweet_special(text):\n",
    "    # remove tab, new line, ans back slice\n",
    "    text = str(text)\n",
    "    text = text.replace('\\\\t',\" \").replace('\\\\n',\" \").replace('\\\\u',\" \").replace('\\\\',\"\")\n",
    "    #remove non ASCII (emoticon, chinese word, .etc)\n",
    "    text = text.encode('ascii', 'replace').decode('ascii')\n",
    "    #remove mention, link, hashtag\n",
    "    text = ' '.join(re.sub(\"([@#][A-Za-z0-9]+)|(\\w+://\\S+)\",\" \", text).split())\n",
    "    # remove incomplete URL\n",
    "    return text.replace(\"http://\", \" \").replace(\"https://\", \" \")\n",
    "\n",
    "dataSB['review'] = dataSB['review'].apply(remove_tweet_special)\n",
    "\n",
    "#remove number\n",
    "def remove_number(text):\n",
    "    return re.sub(r\"\\d+\", \"\", text)\n",
    "\n",
    "dataSB['review'] = dataSB['review'].apply(remove_number)\n",
    "\n",
    "#remove punctuation\n",
    "def remove_punctuation(text):\n",
    "    return text.translate(str.maketrans(\"\",\"\",string.punctuation))\n",
    "dataSB['review'] = dataSB['review'].apply(remove_punctuation)\n",
    "\n",
    "# remove whitespace leading & trailing\n",
    "def remove_whitespace_LT(text):\n",
    "    return text.strip()\n",
    "\n",
    "dataSB['review'] = dataSB['review'].apply(remove_whitespace_LT)\n",
    "\n",
    "# remove multiple whitespace into single whitespace\n",
    "def remove_whitespace_multiple(text):\n",
    "    return re.sub('\\s+',' ',text)\n",
    "\n",
    "dataSB['review'] = dataSB['review'].apply(remove_whitespace_multiple)\n",
    "\n",
    "# remove single char\n",
    "def remove_singl_char(text):\n",
    "    return re.sub(r\"\\b[a-zA-Z]\\b\", \"\", text)\n",
    "\n",
    "dataSB['review'] = dataSB['review'].apply(remove_singl_char)\n",
    "\n",
    "# NLTK word tokenize\n",
    "def word_tokenize_wrapper(text):\n",
    "    return word_tokenize(text)\n",
    "\n",
    "dataSB['textdata_tokens'] = dataSB['review'].apply(word_tokenize_wrapper)\n",
    "\n",
    "print('Tokenizing Result : \\n')\n",
    "print(dataSB['textdata_tokens'].head())"
   ]
  },
  {
   "cell_type": "code",
   "execution_count": 16,
   "id": "72973422",
   "metadata": {},
   "outputs": [
    {
     "name": "stdout",
     "output_type": "stream",
     "text": [
      "Frequency Tokens : \n",
      "\n",
      "0    [(dan, 3), (aman, 2), (alhamdulillah, 1), (pak...\n",
      "1    [(saya, 2), (sudah, 2), (sampai, 2), (dan, 2),...\n",
      "2    [(yg, 3), (aku, 2), (di, 2), (dan, 2), (lampu,...\n",
      "3    [(dan, 3), (dengan, 3), (aman, 2), (pengiriman...\n",
      "4    [(telepon, 3), (layanan, 2), (pln, 2), (kamu, ...\n",
      "Name: textdata_tokens_fdist, dtype: object\n"
     ]
    }
   ],
   "source": [
    "# NLTK calc frequency distribution\n",
    "def freqDist_wrapper(text):\n",
    "    return FreqDist(text)\n",
    "\n",
    "dataSB['textdata_tokens_fdist'] = dataSB['textdata_tokens'].apply(freqDist_wrapper)\n",
    "\n",
    "print('Frequency Tokens : \\n')\n",
    "print(dataSB['textdata_tokens_fdist'].head().apply(lambda x : x.most_common()))"
   ]
  },
  {
   "cell_type": "code",
   "execution_count": 17,
   "id": "3fe0cd9e",
   "metadata": {},
   "outputs": [
    {
     "name": "stderr",
     "output_type": "stream",
     "text": [
      "[nltk_data] Downloading package stopwords to\n",
      "[nltk_data]     C:\\Users\\Asus\\AppData\\Roaming\\nltk_data...\n",
      "[nltk_data]   Package stopwords is already up-to-date!\n"
     ]
    },
    {
     "data": {
      "text/plain": [
       "True"
      ]
     },
     "execution_count": 17,
     "metadata": {},
     "output_type": "execute_result"
    }
   ],
   "source": [
    "nltk.download('stopwords')"
   ]
  },
  {
   "cell_type": "code",
   "execution_count": 18,
   "id": "2371748c",
   "metadata": {},
   "outputs": [
    {
     "name": "stdout",
     "output_type": "stream",
     "text": [
      "0    [alhamdulillah, paketnya, aman, prodak, asli, ...\n",
      "1    [alhamdulillah, pesanan, ka, sesuai, pesananpe...\n",
      "2    [kali, kasih, bintang, bwh, tpi, emang, bener,...\n",
      "3    [pengiriman, cepat, belinya, pas, event, packa...\n",
      "4    [menghubungi, layanan, pln, saluran, telepon, ...\n",
      "Name: textdata_tokens_WSW, dtype: object\n"
     ]
    }
   ],
   "source": [
    "from nltk.corpus import stopwords\n",
    "\n",
    "\n",
    "# ------------- get stopword from NLTK stopword --------------------\n",
    "# get stopword indonesia\n",
    "list_stopwords = stopwords.words('indonesian')\n",
    "\n",
    "\n",
    "# ------------- manualy add stopword -------------------------------\n",
    "# append additional stopword\n",
    "list_stopwords.extend([\"yg\",\"dg\",\"rt\",\"dgn\",\"ny\",\"d\",\"klo\",\n",
    "                      'kalo','amp','biar','bikin','bilang'\n",
    "                      'gak','ga','krn','nya','nih','sih'\n",
    "                      'si','tau','tdk','tuh','utk','ya'\n",
    "                      'jd','jgn','sdh','aja','n','t'\n",
    "                      'nyg','hehe','pen','u','nan','loh','rt',\n",
    "                      '&amp','yah','bisnis','pandemi','indonesia'])\n",
    "\n",
    "# convert list to dictionary\n",
    "list_stopwords = set(list_stopwords)\n",
    "\n",
    "# remove stopwords pada list token\n",
    "def stopwords_removal(words):\n",
    "    return [word for word in words if word not in list_stopwords]\n",
    "\n",
    "dataSB['textdata_tokens_WSW'] = dataSB['textdata_tokens'].apply(stopwords_removal)\n",
    "\n",
    "print(dataSB['textdata_tokens_WSW'].head())"
   ]
  },
  {
   "cell_type": "code",
   "execution_count": 19,
   "id": "5e135ddc",
   "metadata": {},
   "outputs": [
    {
     "name": "stderr",
     "output_type": "stream",
     "text": [
      "\n",
      "Usage:   \n",
      "  pip install [options] <requirement specifier> [package-index-options] ...\n",
      "  pip install [options] -r <requirements file> [package-index-options] ...\n",
      "  pip install [options] [-e] <vcs project url> ...\n",
      "  pip install [options] [-e] <local project path> ...\n",
      "  pip install [options] <archive url/path> ...\n",
      "\n",
      "no such option: --id\n"
     ]
    }
   ],
   "source": [
    "# import file xlsx untuk proses normalisasi\n",
    "!pip install gdown --id 139"
   ]
  },
  {
   "cell_type": "code",
   "execution_count": 20,
   "id": "01fef08f",
   "metadata": {},
   "outputs": [
    {
     "data": {
      "text/plain": [
       "0    [alhamdulillah, paketnya, aman, prodak, asli, ...\n",
       "1    [alhamdulillah, pesanan, ka, sesuai, pesananpe...\n",
       "2    [kali, kasih, bintang, bwh, tpi, emang, bener,...\n",
       "3    [pengiriman, cepat, belinya, pas, event, packa...\n",
       "4    [menghubungi, layanan, pln, saluran, telepon, ...\n",
       "5    [alhamdulillah, berfungsi, baikk, garansinya, ...\n",
       "6    [produknya, bagus, beli, langsung, ofc, storen...\n",
       "7    [maaf, diriview, packing, aman, produknya, bag...\n",
       "8    [maaf, videonya, powerbanknya, bagus, cepat, t...\n",
       "9    [sukaa, warnanya, semoga, bertahan, yaa, semog...\n",
       "Name: textdata_normalized, dtype: object"
      ]
     },
     "execution_count": 20,
     "metadata": {},
     "output_type": "execute_result"
    }
   ],
   "source": [
    "normalizad_word = pd.read_excel('dataU.xlsx') #lokasi file\n",
    "\n",
    "normalizad_word_dict = {}\n",
    "\n",
    "for index, row in normalizad_word.iterrows():\n",
    "    if row[0] not in normalizad_word_dict:\n",
    "        normalizad_word_dict[row[0]] = row[1]\n",
    "\n",
    "def normalizad_term(document):\n",
    "    return [normalizad_word_dict[term] if term in normalizad_word_dict else term for term in document]\n",
    "\n",
    "dataSB['textdata_normalized'] = dataSB['textdata_tokens_WSW'].apply(normalizad_term)\n",
    "\n",
    "dataSB['textdata_normalized'].head(10)"
   ]
  },
  {
   "cell_type": "code",
   "execution_count": 21,
   "id": "37bb98de",
   "metadata": {},
   "outputs": [
    {
     "name": "stdout",
     "output_type": "stream",
     "text": [
      "4896\n"
     ]
    }
   ],
   "source": [
    "# import Sastrawi package\n",
    "from Sastrawi.Stemmer.StemmerFactory import StemmerFactory\n",
    "import swifter\n",
    "\n",
    "# create stemmer\n",
    "factory = StemmerFactory()\n",
    "stemmer = factory.create_stemmer()\n",
    "\n",
    "# stemmed\n",
    "def stemmed_wrapper(term):\n",
    "    return stemmer.stem(term)\n",
    "\n",
    "term_dict = {}\n",
    "\n",
    "for document in dataSB['textdata_normalized']:\n",
    "    for term in document:\n",
    "        if term not in term_dict:\n",
    "            term_dict[term] = ' '\n",
    "\n",
    "print(len(term_dict))"
   ]
  },
  {
   "cell_type": "code",
   "execution_count": 22,
   "id": "6f8175ee",
   "metadata": {},
   "outputs": [],
   "source": [
    "for term in term_dict:\n",
    "    term_dict[term] = stemmed_wrapper(term)\n",
    "\n",
    "    # untuk melihat hasilnya silahkan jalankan baris di bawah ini\n",
    "    # print(term,\":\" ,term_dict[term])"
   ]
  },
  {
   "cell_type": "code",
   "execution_count": 23,
   "id": "dd84e4bb",
   "metadata": {},
   "outputs": [
    {
     "data": {
      "application/vnd.jupyter.widget-view+json": {
       "model_id": "bee85c50b49f42329966e8dc356b4cd0",
       "version_major": 2,
       "version_minor": 0
      },
      "text/plain": [
       "Pandas Apply:   0%|          | 0/3003 [00:00<?, ?it/s]"
      ]
     },
     "metadata": {},
     "output_type": "display_data"
    },
    {
     "name": "stdout",
     "output_type": "stream",
     "text": [
      "0       [alhamdulillah, paket, aman, prodak, asli, ori...\n",
      "1       [alhamdulillah, pesan, ka, sesuai, pesananpeng...\n",
      "2       [kali, kasih, bintang, bwh, tpi, emang, bener,...\n",
      "3       [kirim, cepat, beli, pas, event, packagingnya,...\n",
      "4       [hubung, layan, pln, salur, telepon, tau, hand...\n",
      "                              ...                        \n",
      "2998                           [kirim, cepat, moga, awet]\n",
      "2999      [produk, oke, banget, slim, warna, hijau, mate]\n",
      "3000                                                   []\n",
      "3001    [powerbank, bagus, tidak, tebel, banget, tidak...\n",
      "3002    [paham, erti, bioteknologi, istilah, muncul, a...\n",
      "Name: textdata_tokens_stemmed, Length: 3003, dtype: object\n"
     ]
    }
   ],
   "source": [
    "# apply stemmed term to dataframe\n",
    "def get_stemmed_term(document):\n",
    "    return [term_dict[term] for term in document]\n",
    "\n",
    "dataSB['textdata_tokens_stemmed'] = dataSB['textdata_normalized'].swifter.apply(get_stemmed_term)\n",
    "\n",
    "print(dataSB['textdata_tokens_stemmed'])"
   ]
  },
  {
   "cell_type": "code",
   "execution_count": 24,
   "id": "809538c2",
   "metadata": {},
   "outputs": [
    {
     "name": "stdout",
     "output_type": "stream",
     "text": [
      "0    [alhamdulillah, paket, aman, prodak, asli, ori...\n",
      "1    [alhamdulillah, pesan, ka, sesuai, pesananpeng...\n",
      "2    [kali, kasih, bintang, bwh, tpi, emang, bener,...\n",
      "3    [kirim, cepat, beli, pas, event, packagingnya,...\n",
      "4    [hubung, layan, pln, salur, telepon, tau, hand...\n",
      "Name: textdata_tokens_stemmed2, dtype: object\n"
     ]
    }
   ],
   "source": [
    "#stopwords #2\n",
    "\n",
    "from nltk.corpus  import stopwords\n",
    "\n",
    "#.......................get stopworods from nLTK stopwords......................\n",
    "#get stopwords indonesia\n",
    "list_stopwords = stopwords.words('indonesian')\n",
    "\n",
    "#.......................manualy add stopword....................................\n",
    "#append additional stopwords \n",
    "list_stopwords.extend([\"sampai\",\"dengan\",\"rapih\",\"terimakasih\",\"seller\"])\n",
    "\n",
    "#convert list to dictionary \n",
    "list_stopwords = set (list_stopwords)\n",
    "\n",
    "#remove stopword pada list token\n",
    "def stopwords_removal(words):\n",
    "    return [word for word in words if word not in list_stopwords]\n",
    "\n",
    "dataSB['textdata_tokens_stemmed2'] = dataSB ['textdata_tokens_stemmed'].apply (stopwords_removal)\n",
    "\n",
    "print(dataSB['textdata_tokens_stemmed2'].head())"
   ]
  },
  {
   "cell_type": "code",
   "execution_count": 25,
   "id": "4788209f",
   "metadata": {},
   "outputs": [
    {
     "data": {
      "text/plain": [
       "['paham', 'pengertian', 'bioteknologi', 'istilah', 'muncul']"
      ]
     },
     "execution_count": 25,
     "metadata": {},
     "output_type": "execute_result"
    }
   ],
   "source": [
    "for i in range(len(dataSB)):\n",
    "        a=dataSB.iloc[i][6]\n",
    "        document.append(a)\n",
    "\n",
    "document[0:5]"
   ]
  },
  {
   "cell_type": "code",
   "execution_count": 26,
   "id": "0c452cd8",
   "metadata": {},
   "outputs": [
    {
     "data": {
      "text/plain": [
       "0       [alhamdulillah, paket, aman, prodak, asli, ori...\n",
       "1       [alhamdulillah, pesan, ka, sesuai, pesananpeng...\n",
       "2       [kali, kasih, bintang, bwh, tpi, emang, bener,...\n",
       "3       [kirim, cepat, beli, pas, event, packagingnya,...\n",
       "4       [hubung, layan, pln, salur, telepon, tau, hand...\n",
       "                              ...                        \n",
       "2998                           [kirim, cepat, moga, awet]\n",
       "2999      [produk, oke, banget, slim, warna, hijau, mate]\n",
       "3000                                                   []\n",
       "3001    [powerbank, bagus, tebel, banget, ngehabisin, ...\n",
       "3002    [paham, erti, bioteknologi, istilah, muncul, a...\n",
       "Name: textdata_tokens_stemmed2, Length: 3003, dtype: object"
      ]
     },
     "execution_count": 26,
     "metadata": {},
     "output_type": "execute_result"
    }
   ],
   "source": [
    "doc_clean = dataSB['textdata_tokens_stemmed2']\n",
    "doc_clean"
   ]
  },
  {
   "cell_type": "code",
   "execution_count": 27,
   "id": "599fe441",
   "metadata": {},
   "outputs": [
    {
     "name": "stdout",
     "output_type": "stream",
     "text": [
      "Defaulting to user installation because normal site-packages is not writeable\n",
      "Collecting numpy==1.24.1\n",
      "  Using cached numpy-1.24.1-cp39-cp39-win_amd64.whl (14.9 MB)\n",
      "Installing collected packages: numpy\n",
      "  Attempting uninstall: numpy\n",
      "    Found existing installation: numpy 1.22.4\n",
      "    Uninstalling numpy-1.22.4:\n",
      "      Successfully uninstalled numpy-1.22.4\n"
     ]
    },
    {
     "name": "stderr",
     "output_type": "stream",
     "text": [
      "  WARNING: The script f2py.exe is installed in 'C:\\Users\\Asus\\AppData\\Roaming\\Python\\Python39\\Scripts' which is not on PATH.\n",
      "  Consider adding this directory to PATH or, if you prefer to suppress this warning, use --no-warn-script-location.\n",
      "ERROR: Could not install packages due to an OSError: [WinError 5] Access is denied: 'C:\\\\Users\\\\Asus\\\\AppData\\\\Roaming\\\\Python\\\\Python39\\\\site-packages\\\\~-mpy\\\\.libs\\\\libopenblas.EL2C6PLE4ZYW3ECEVIV3OXXGRN2NRFM2.gfortran-win_amd64.dll'\n",
      "Check the permissions.\n",
      "\n"
     ]
    }
   ],
   "source": [
    "!pip install numpy==1.24.1"
   ]
  },
  {
   "cell_type": "markdown",
   "id": "8a69132f",
   "metadata": {},
   "source": [
    "## LDA"
   ]
  },
  {
   "cell_type": "code",
   "execution_count": 28,
   "id": "609316ce",
   "metadata": {},
   "outputs": [
    {
     "name": "stdout",
     "output_type": "stream",
     "text": [
      "Dictionary<4372 unique tokens: ['alhamdulillah', 'aman', 'asli', 'awer', 'banget']...>\n"
     ]
    }
   ],
   "source": [
    "import gensim\n",
    "from gensim import corpora\n",
    "\n",
    "dictionary = corpora.Dictionary(doc_clean)\n",
    "print(dictionary)\n",
    "\n",
    "doc_term_matrix = [dictionary.doc2bow(doc) for doc in doc_clean]"
   ]
  },
  {
   "cell_type": "code",
   "execution_count": 29,
   "id": "89a7e940",
   "metadata": {},
   "outputs": [],
   "source": [
    "# Creating the object for LDA model using gensim library\n",
    "Lda = gensim.models.ldamodel.LdaModel\n",
    "\n",
    "total_topics = 3 # jumlah topik yang akan di extract\n",
    "number_words = 10 # jumlah kata per topik"
   ]
  },
  {
   "cell_type": "code",
   "execution_count": 30,
   "id": "db6915ac",
   "metadata": {},
   "outputs": [
    {
     "data": {
      "text/plain": [
       "[(0,\n",
       "  '0.066*\"moga\" + 0.058*\"awet\" + 0.035*\"barang\" + 0.023*\"terima\" + 0.021*\"bagus\" + 0.019*\"coba\" + 0.016*\"kasih\" + 0.015*\"kirim\" + 0.014*\"fungsi\" + 0.013*\"ya\"'),\n",
       " (1,\n",
       "  '0.041*\"warna\" + 0.033*\"bagus\" + 0.029*\"banget\" + 0.020*\"suka\" + 0.014*\"beli\" + 0.014*\"bgt\" + 0.012*\"bank\" + 0.012*\"power\" + 0.011*\"robot\" + 0.009*\"deh\"'),\n",
       " (2,\n",
       "  '0.065*\"kirim\" + 0.058*\"barang\" + 0.058*\"produk\" + 0.056*\"cepat\" + 0.035*\"bagus\" + 0.034*\"sesuai\" + 0.027*\"kualitas\" + 0.025*\"harga\" + 0.022*\"original\" + 0.017*\"aman\"')]"
      ]
     },
     "execution_count": 30,
     "metadata": {},
     "output_type": "execute_result"
    }
   ],
   "source": [
    "# Running and Training LDA model on the document term matrix.\n",
    "lda_model = Lda(doc_term_matrix, num_topics=total_topics, id2word = dictionary, passes=50)\n",
    "\n",
    "lda_model.show_topics(num_topics=total_topics, num_words=number_words)"
   ]
  },
  {
   "cell_type": "code",
   "execution_count": 31,
   "id": "5f067e9e",
   "metadata": {},
   "outputs": [
    {
     "name": "stdout",
     "output_type": "stream",
     "text": [
      "        word  topic_id  importance  word_count\n",
      "0       moga         0    0.066039         856\n",
      "1       awet         0    0.058494         771\n",
      "2     barang         0    0.034924        1157\n",
      "3     terima         0    0.022692         298\n",
      "4      bagus         0    0.021259         927\n",
      "5       coba         0    0.018619         260\n",
      "6      kasih         0    0.016217         218\n",
      "7      kirim         0    0.014636         934\n",
      "8     fungsi         0    0.014186         302\n",
      "9         ya         0    0.013376         230\n",
      "10     warna         1    0.040593         357\n",
      "11     bagus         1    0.033318         927\n",
      "12    banget         1    0.028869         415\n",
      "13      suka         1    0.020479         177\n",
      "14      beli         1    0.014323         241\n",
      "15       bgt         1    0.014315         157\n",
      "16      bank         1    0.011800         102\n",
      "17     power         1    0.011799         102\n",
      "18     robot         1    0.010614         165\n",
      "19       deh         1    0.008662         112\n",
      "20     kirim         2    0.064925         934\n",
      "21    barang         2    0.058409        1157\n",
      "22    produk         2    0.058121         664\n",
      "23     cepat         2    0.055511         618\n",
      "24     bagus         2    0.034853         927\n",
      "25    sesuai         2    0.033557         465\n",
      "26  kualitas         2    0.026705         299\n",
      "27     harga         2    0.025266         335\n",
      "28  original         2    0.022307         261\n",
      "29      aman         2    0.017432         395\n"
     ]
    }
   ],
   "source": [
    "# Word Count of Topic Keywords\n",
    "\n",
    "from collections import Counter\n",
    "topics = lda_model.show_topics(formatted=False)\n",
    "data_flat = [w for w_list in doc_clean for w in w_list]\n",
    "counter = Counter(data_flat)\n",
    "\n",
    "out =[]\n",
    "for i, topic in topics:\n",
    "    for word, weight in topic:\n",
    "        out.append([word, i , weight, counter[word]])\n",
    "\n",
    "df_imp_wcount = pd.DataFrame(out, columns=['word', 'topic_id', 'importance', 'word_count'])\n",
    "print(df_imp_wcount)"
   ]
  },
  {
   "cell_type": "code",
   "execution_count": 32,
   "id": "a4baa917",
   "metadata": {},
   "outputs": [],
   "source": [
    "# Dominant topic and its percentage contribution in each topic\n",
    "def format_topics_sentences(ldamodel=None, corpus=doc_term_matrix, text=document):\n",
    "    # Init output\n",
    "    sent_topics_df = pd.DataFrame()\n",
    "\n",
    "    # Get main topic in each document\n",
    "    for i, row_list in enumerate(ldamodel[corpus]):\n",
    "        row = row_list[0] if ldmodel.per_word_topics else row_list \n",
    "        #print(row)\n",
    "        row = sorted(row,key=lambda x:(x[1]), reverse=True)\n",
    "        # Get the dominant topic, perc contribution and keywords for each document \n",
    "        for j, (topic_num, prop_topic) in enumerate (row):\n",
    "            if j ==0: # => dominant topic \n",
    "                wp = ldmodel.show_topic (topic_num)\n",
    "                topic_keywords = \", \".join ([word for word, prop in wp])\n",
    "                sent_topics_df = sent_topics_df. append(pd.series([int(topic_num), round (prop_topic,4), topic_keywords]), ignore_index=true)\n",
    "            else:\n",
    "                break\n",
    "    sent_topics_df.colums=['Dominant_topics','Perc_Contribution', 'Topic_keywords']\n",
    "\n",
    "    # add original text to the end of the output \n",
    "    contents=pd.series (texts)\n",
    "    sent_topic_df= pd.concat ([sent_topic_df, contents], axis=1)\n",
    "    return(sent_topics_df)"
   ]
  },
  {
   "cell_type": "code",
   "execution_count": 33,
   "id": "c5ca4769",
   "metadata": {},
   "outputs": [
    {
     "ename": "SyntaxError",
     "evalue": "invalid syntax (171075762.py, line 1)",
     "output_type": "error",
     "traceback": [
      "\u001b[1;36m  Input \u001b[1;32mIn [33]\u001b[1;36m\u001b[0m\n\u001b[1;33m    df_topics_sents_keywords = format_topics_sentences(ldamodel=lda model, corpus=doc_term_matrix, texts=doc_clean)\u001b[0m\n\u001b[1;37m                                                                    ^\u001b[0m\n\u001b[1;31mSyntaxError\u001b[0m\u001b[1;31m:\u001b[0m invalid syntax\n"
     ]
    }
   ],
   "source": [
    "df_topics_sents_keywords = format_topics_sentences(ldamodel=lda model, corpus=doc_term_matrix, texts=doc_clean)\n",
    "\n",
    "# Format\n",
    "df_dominant_topic = df_topic_sents_keywwords.reset_index()\n",
    "df_dominant_topic.column = ['Document_No', 'Dominant_Topic', 'Topic_Perc_Contrib', 'Keywords', 'Text']\n",
    "print(df_dominant_topic.head(10))"
   ]
  },
  {
   "cell_type": "code",
   "execution_count": 44,
   "id": "52d5180e",
   "metadata": {},
   "outputs": [
    {
     "ename": "NameError",
     "evalue": "name 'df_dominant_topic' is not defined",
     "output_type": "error",
     "traceback": [
      "\u001b[1;31m---------------------------------------------------------------------------\u001b[0m",
      "\u001b[1;31mNameError\u001b[0m                                 Traceback (most recent call last)",
      "Input \u001b[1;32mIn [44]\u001b[0m, in \u001b[0;36m<cell line: 2>\u001b[1;34m()\u001b[0m\n\u001b[0;32m      1\u001b[0m \u001b[38;5;66;03m# simpan \u001b[39;00m\n\u001b[1;32m----> 2\u001b[0m \u001b[43mdf_dominant_topic\u001b[49m\u001b[38;5;241m.\u001b[39mto_csv(\u001b[38;5;124m'\u001b[39m\u001b[38;5;124mdf_dominant_topic.csv\u001b[39m\u001b[38;5;124m'\u001b[39m)\n",
      "\u001b[1;31mNameError\u001b[0m: name 'df_dominant_topic' is not defined"
     ]
    }
   ],
   "source": [
    "# simpan \n",
    "df_dominant_topic.to_csv('df_dominant_topic.csv')"
   ]
  },
  {
   "cell_type": "code",
   "execution_count": 35,
   "id": "5c6354da",
   "metadata": {},
   "outputs": [],
   "source": [
    "import pyLDAvis.gensim\n",
    "import pickle \n",
    "import pyLDAvis\n",
    "# Visualize the topics\n",
    "pyLDAvis.enable_notebook()"
   ]
  },
  {
   "cell_type": "code",
   "execution_count": 36,
   "id": "1ec632bc",
   "metadata": {},
   "outputs": [],
   "source": [
    "import os\n",
    "LDAvis_data_filepath = os.path.join('ldavis_prepared_'+str(total_topics))"
   ]
  },
  {
   "cell_type": "code",
   "execution_count": 37,
   "id": "d96cafe5",
   "metadata": {},
   "outputs": [],
   "source": [
    "corpus = [dictionary.doc2bow(text) for text in doc_clean]"
   ]
  },
  {
   "cell_type": "code",
   "execution_count": 38,
   "id": "7497fada",
   "metadata": {},
   "outputs": [],
   "source": [
    "# proses ini mungkin agak lama\n",
    "if 1 == 1:\n",
    "    LDAvis_prepared = pyLDAvis.gensim.prepare(lda_model, corpus, dictionary)\n",
    "    with open(LDAvis_data_filepath, 'wb') as f:\n",
    "        pickle.dump(LDAvis_prepared, f)"
   ]
  },
  {
   "cell_type": "code",
   "execution_count": 39,
   "id": "224e4a33",
   "metadata": {},
   "outputs": [],
   "source": [
    "# load the pre-prepared pyLDAvis data from disk\n",
    "with open(LDAvis_data_filepath, 'rb') as f:\n",
    "    LDAvis_prepared = pickle.load(f)"
   ]
  },
  {
   "cell_type": "code",
   "execution_count": 40,
   "id": "f502f53a",
   "metadata": {},
   "outputs": [],
   "source": [
    "pyLDAvis.save_html(LDAvis_prepared, 'ldavisprepared'+str(total_topics) + '.html')"
   ]
  },
  {
   "cell_type": "code",
   "execution_count": 41,
   "id": "95256f36",
   "metadata": {},
   "outputs": [
    {
     "data": {
      "text/html": [
       "\n",
       "<link rel=\"stylesheet\" type=\"text/css\" href=\"https://cdn.jsdelivr.net/gh/bmabey/pyLDAvis/pyLDAvis/js/ldavis.v1.0.0.css\">\n",
       "\n",
       "\n",
       "<div id=\"ldavis_el1168817957047653442219318275\"></div>\n",
       "<script type=\"text/javascript\">\n",
       "\n",
       "var ldavis_el1168817957047653442219318275_data = {\"mdsDat\": {\"x\": [-0.004120786047170219, -0.1824414514387219, 0.18656223748589215], \"y\": [-0.18074793751934404, 0.09340167661737042, 0.0873462609019735], \"topics\": [1, 2, 3], \"cluster\": [1, 1, 1], \"Freq\": [40.85517371054731, 34.42440711746725, 24.720419171985437]}, \"tinfo\": {\"Term\": [\"moga\", \"produk\", \"awet\", \"cepat\", \"kirim\", \"warna\", \"kualitas\", \"original\", \"barang\", \"terima\", \"sesuai\", \"suka\", \"harga\", \"coba\", \"kasih\", \"banget\", \"mantap\", \"bgt\", \"bank\", \"power\", \"packing\", \"rapi\", \"sampe\", \"paket\", \"aman\", \"udah\", \"respon\", \"emas\", \"jual\", \"selamat\", \"moga\", \"awet\", \"coba\", \"kasih\", \"sampe\", \"paket\", \"cas\", \"udh\", \"kak\", \"terima\", \"pake\", \"blm\", \"sen\", \"full\", \"lampu\", \"dateng\", \"official\", \"rusak\", \"bintang\", \"tgl\", \"kendala\", \"charger\", \"aamiin\", \"jam\", \"manfaat\", \"charge\", \"nyala\", \"dipake\", \"bom\", \"chat\", \"udah\", \"selamat\", \"makasih\", \"alhamdulillah\", \"ya\", \"mudah\", \"fungsi\", \"sih\", \"cepet\", \"kali\", \"barang\", \"nyampe\", \"aman\", \"shopee\", \"bagus\", \"powerbank\", \"isi\", \"banget\", \"kirim\", \"emas\", \"pesan\", \"lumayan\", \"robot\", \"produk\", \"cepat\", \"kualitas\", \"original\", \"mantap\", \"respon\", \"jual\", \"rapi\", \"jangkau\", \"sale\", \"deskripsi\", \"flash\", \"good\", \"mantab\", \"ekspektasi\", \"mantul\", \"buble\", \"ramah\", \"pke\", \"terimakasihh\", \"krna\", \"super\", \"baikpengiriman\", \"jasa\", \"online\", \"pes\", \"baguus\", \"ok\", \"jakarta\", \"pngiriman\", \"harga\", \"sesuai\", \"packing\", \"kirim\", \"you\", \"barang\", \"ori\", \"pesan\", \"emas\", \"oke\", \"aman\", \"lumayan\", \"bagus\", \"murah\", \"gambar\", \"pokok\", \"fungsi\", \"cepet\", \"beli\", \"warna\", \"suka\", \"bank\", \"power\", \"bawa\", \"maaf\", \"nyesel\", \"cantik\", \"foto\", \"hijau\", \"lucu\", \"putih\", \"ringan\", \"ungu\", \"cakep\", \"packingnya\", \"desain\", \"top\", \"slim\", \"enak\", \"bangettt\", \"merk\", \"nilai\", \"video\", \"ijo\", \"elegan\", \"bangetttt\", \"ambil\", \"green\", \"simple\", \"baguss\", \"bgt\", \"berat\", \"banget\", \"beli\", \"robot\", \"deh\", \"bagus\", \"asli\", \"dapet\", \"powerbank\", \"pas\", \"kabel\", \"murah\", \"sih\", \"pokok\", \"ya\", \"harga\", \"sesuai\"], \"Freq\": [793.0, 588.0, 703.0, 562.0, 836.0, 295.0, 270.0, 226.0, 1036.0, 276.0, 403.0, 149.0, 285.0, 224.0, 195.0, 363.0, 122.0, 132.0, 86.0, 86.0, 181.0, 106.0, 126.0, 115.0, 322.0, 167.0, 87.0, 240.0, 80.0, 144.0, 792.5257950139219, 701.9789869982058, 223.4430611449807, 194.61269277477393, 125.56025849802118, 115.17635631475903, 57.61085550873133, 53.412762531569314, 57.16632242150042, 272.31627394179833, 43.198216797639965, 37.90761531581332, 43.50532502391272, 29.273303201526733, 27.973149959508852, 29.41909096448046, 30.46808331956978, 36.7153750834749, 24.84309428899036, 22.426331569650745, 22.379236109197947, 20.425551275132868, 19.33716414716168, 22.962586943001728, 18.01478480961299, 22.49456200861822, 18.41828714697627, 28.416079202521445, 17.093598441402413, 17.07524783704028, 151.1656593851517, 130.03118381813502, 117.01981597696579, 154.31797887227583, 160.5189547446078, 77.66387065477551, 170.24892437476817, 91.47114758636646, 116.1128001591964, 62.15829034519749, 419.1200135306087, 40.28034915837542, 145.88220534846528, 49.74513404423478, 255.12588042825084, 73.20749169877423, 47.989394042986504, 115.34789499812409, 175.640635102038, 87.10852366329506, 61.972948542601536, 54.65649622226931, 50.67125628493957, 587.710751616978, 561.3222980747277, 270.032101175896, 225.5629729575932, 122.12062758800411, 86.7421254699989, 79.76159323291647, 105.37463926432427, 55.81260611201633, 41.71915694204069, 33.73873060785295, 35.18538008656351, 42.15257261732433, 22.094706729284024, 20.35905931716657, 20.638529225249858, 17.28773084284215, 63.19146019056138, 9.173079893943108, 8.536349648638023, 8.28866807708038, 18.44372375364113, 7.291730445949889, 8.262795615432886, 8.651365180419925, 7.27175267009532, 6.615578496166239, 72.73305123739596, 6.593118654411643, 5.787358956153306, 255.48977771579248, 339.3245346757797, 149.66042068250331, 656.5092063273146, 41.341487395645686, 590.6195892368987, 84.17916905994755, 125.51686125499485, 152.63191207309657, 95.49883042186623, 176.26548317999772, 98.28742704615385, 352.43031349648305, 58.368485367601956, 40.926421468168364, 53.81225758421859, 70.12728816650109, 56.368136839804215, 46.14089995583303, 294.7632114205276, 148.7062530684871, 85.68644376759232, 85.68031001381999, 42.558191688515905, 45.8175886434678, 44.47820539828763, 42.74714106051022, 44.653801852064234, 39.441764621657484, 37.65707220514296, 31.893301455976147, 26.390477296111968, 25.741007787323095, 26.162471737266895, 29.056264506508104, 21.522254885755, 22.79039157147551, 20.826503262986673, 17.775946422347566, 16.86055637067332, 22.802505227974606, 15.98062813966461, 15.765118328926283, 15.310045533546955, 13.778443158986665, 13.547800153646325, 12.67152799830814, 12.436206061444944, 12.433633705776643, 53.786359340245006, 103.94825179180981, 51.013814720269586, 209.63124005844043, 104.00603892078945, 77.06933800215337, 62.8980268996466, 241.93694346870996, 26.366385236780193, 35.58107720456777, 46.13941121735704, 41.26379381278834, 28.70066232942947, 32.132957427512814, 33.538740078882185, 30.704918785333376, 30.517693897585968, 29.712346228914278, 29.888618951023002], \"Total\": [793.0, 588.0, 703.0, 562.0, 836.0, 295.0, 270.0, 226.0, 1036.0, 276.0, 403.0, 149.0, 285.0, 224.0, 195.0, 363.0, 122.0, 132.0, 86.0, 86.0, 181.0, 106.0, 126.0, 115.0, 322.0, 167.0, 87.0, 240.0, 80.0, 144.0, 793.4347487321912, 703.3715417939802, 224.1297222438788, 195.32265997237766, 126.25295483897096, 115.8549681779526, 58.28476307163051, 54.08764147827322, 58.044437689494224, 276.6046675766737, 43.90640505576531, 38.578151047491886, 44.32618322020114, 29.946215147033385, 28.62806581767395, 30.185113259413757, 31.270584920960356, 37.70375797979065, 25.52102771241024, 23.090180107555327, 23.077389763949558, 21.09564403520573, 19.984351278660693, 23.765617406690666, 18.655120217347225, 23.318396856683115, 19.101671983273466, 29.507951881992202, 17.77182655904478, 17.7695615566892, 167.42684796733226, 144.46945247890216, 134.1328217638732, 184.0615759623531, 202.76971258839947, 95.67700700370406, 262.171427923247, 125.35431631918178, 172.89167932212348, 84.19539623687886, 1036.1111563850159, 48.863493612786044, 322.82221700179815, 66.65070354450658, 849.4931373934438, 125.97850330365739, 66.70543008163128, 363.29418540928134, 836.369951094262, 240.1363419738942, 189.1016320727151, 162.3639607339173, 133.305117639874, 588.4106852577981, 562.5351076927275, 270.71505677850007, 226.24088266541114, 122.83310856058476, 87.41758260315513, 80.43627887707991, 106.3036253174609, 56.48856142579864, 42.499204600884845, 34.44109390999395, 35.923951256260885, 43.351676683467474, 22.764379211464174, 21.0751779875287, 21.508983559908096, 18.115648356302145, 66.56589968456706, 9.846059060625661, 9.209474138760614, 9.00172304343137, 20.069139763528042, 7.9359538326262875, 9.002775926275282, 9.431611787712926, 7.946527111037904, 7.3001422074091105, 80.50911875805473, 7.301076422010744, 6.454495842309164, 285.5611339905371, 403.5743089300685, 181.80451491182444, 836.369951094262, 53.57167895096816, 1036.1111563850159, 120.50063444056164, 189.1016320727151, 240.1363419738942, 146.12409479532135, 322.82221700179815, 162.3639607339173, 849.4931373934438, 90.85820570832752, 56.68197508880186, 94.39633913747632, 262.171427923247, 172.89167932212348, 196.1322597149669, 295.4570477479893, 149.40850928799324, 86.35072240480656, 86.3506713879947, 43.20138495517863, 46.52033164933175, 45.170927355356625, 43.41813150981472, 45.39866942833235, 40.10725567990061, 38.342231246943925, 32.59023295542641, 27.049310898972102, 26.39565507994509, 26.830777106851034, 29.926268932584023, 22.181060114712622, 23.496276436759672, 21.516411506519685, 18.423872609182922, 17.53059501762696, 23.727317249597483, 16.658446383944792, 16.44009468497692, 15.983872349598217, 14.437899824625493, 14.219355824852784, 13.336699377294247, 13.107857066401861, 13.108614180542938, 57.732007525111754, 132.61343097624803, 67.77185526420247, 363.29418540928134, 196.1322597149669, 133.305117639874, 110.29239245293147, 849.4931373934438, 36.79355276796494, 63.96982742903274, 125.97850330365739, 109.04218932863296, 57.618637038094775, 90.85820570832752, 125.35431631918178, 94.39633913747632, 202.76971258839947, 285.5611339905371, 403.5743089300685], \"Category\": [\"Default\", \"Default\", \"Default\", \"Default\", \"Default\", \"Default\", \"Default\", \"Default\", \"Default\", \"Default\", \"Default\", \"Default\", \"Default\", \"Default\", \"Default\", \"Default\", \"Default\", \"Default\", \"Default\", \"Default\", \"Default\", \"Default\", \"Default\", \"Default\", \"Default\", \"Default\", \"Default\", \"Default\", \"Default\", \"Default\", \"Topic1\", \"Topic1\", \"Topic1\", \"Topic1\", \"Topic1\", \"Topic1\", \"Topic1\", \"Topic1\", \"Topic1\", \"Topic1\", \"Topic1\", \"Topic1\", \"Topic1\", \"Topic1\", \"Topic1\", \"Topic1\", \"Topic1\", \"Topic1\", \"Topic1\", \"Topic1\", \"Topic1\", \"Topic1\", \"Topic1\", \"Topic1\", \"Topic1\", \"Topic1\", \"Topic1\", \"Topic1\", \"Topic1\", \"Topic1\", \"Topic1\", \"Topic1\", \"Topic1\", \"Topic1\", \"Topic1\", \"Topic1\", \"Topic1\", \"Topic1\", \"Topic1\", \"Topic1\", \"Topic1\", \"Topic1\", \"Topic1\", \"Topic1\", \"Topic1\", \"Topic1\", \"Topic1\", \"Topic1\", \"Topic1\", \"Topic1\", \"Topic1\", \"Topic1\", \"Topic1\", \"Topic2\", \"Topic2\", \"Topic2\", \"Topic2\", \"Topic2\", \"Topic2\", \"Topic2\", \"Topic2\", \"Topic2\", \"Topic2\", \"Topic2\", \"Topic2\", \"Topic2\", \"Topic2\", \"Topic2\", \"Topic2\", \"Topic2\", \"Topic2\", \"Topic2\", \"Topic2\", \"Topic2\", \"Topic2\", \"Topic2\", \"Topic2\", \"Topic2\", \"Topic2\", \"Topic2\", \"Topic2\", \"Topic2\", \"Topic2\", \"Topic2\", \"Topic2\", \"Topic2\", \"Topic2\", \"Topic2\", \"Topic2\", \"Topic2\", \"Topic2\", \"Topic2\", \"Topic2\", \"Topic2\", \"Topic2\", \"Topic2\", \"Topic2\", \"Topic2\", \"Topic2\", \"Topic2\", \"Topic2\", \"Topic2\", \"Topic3\", \"Topic3\", \"Topic3\", \"Topic3\", \"Topic3\", \"Topic3\", \"Topic3\", \"Topic3\", \"Topic3\", \"Topic3\", \"Topic3\", \"Topic3\", \"Topic3\", \"Topic3\", \"Topic3\", \"Topic3\", \"Topic3\", \"Topic3\", \"Topic3\", \"Topic3\", \"Topic3\", \"Topic3\", \"Topic3\", \"Topic3\", \"Topic3\", \"Topic3\", \"Topic3\", \"Topic3\", \"Topic3\", \"Topic3\", \"Topic3\", \"Topic3\", \"Topic3\", \"Topic3\", \"Topic3\", \"Topic3\", \"Topic3\", \"Topic3\", \"Topic3\", \"Topic3\", \"Topic3\", \"Topic3\", \"Topic3\", \"Topic3\", \"Topic3\", \"Topic3\", \"Topic3\", \"Topic3\", \"Topic3\"], \"logprob\": [30.0, 29.0, 28.0, 27.0, 26.0, 25.0, 24.0, 23.0, 22.0, 21.0, 20.0, 19.0, 18.0, 17.0, 16.0, 15.0, 14.0, 13.0, 12.0, 11.0, 10.0, 9.0, 8.0, 7.0, 6.0, 5.0, 4.0, 3.0, 2.0, 1.0, -2.7175, -2.8388, -3.9836, -4.1217, -4.5599, -4.6463, -5.339, -5.4147, -5.3468, -3.7858, -5.6269, -5.7576, -5.6198, -6.0161, -6.0615, -6.0111, -5.976, -5.7895, -6.1801, -6.2825, -6.2846, -6.3759, -6.4307, -6.2589, -6.5015, -6.2795, -6.4794, -6.0458, -6.554, -6.5551, -4.3744, -4.525, -4.6304, -4.3537, -4.3143, -5.0403, -4.2555, -4.8767, -4.6382, -5.263, -3.3546, -5.6969, -4.4099, -5.4858, -3.851, -5.0994, -5.5217, -4.6448, -4.2243, -4.9256, -5.266, -5.3917, -5.4674, -2.8452, -2.8912, -3.6229, -3.8029, -4.4165, -4.7585, -4.8424, -4.5639, -5.1995, -5.4905, -5.7028, -5.6608, -5.4802, -6.1261, -6.2079, -6.1943, -6.3715, -5.0753, -7.0052, -7.0771, -7.1066, -6.3067, -7.2347, -7.1097, -7.0637, -7.2375, -7.332, -4.9347, -7.3354, -7.4658, -3.6783, -3.3945, -4.2131, -2.7345, -5.4996, -2.8403, -4.7885, -4.389, -4.1934, -4.6623, -4.0495, -4.6336, -3.3566, -5.1547, -5.5097, -5.236, -4.9711, -5.1896, -5.3898, -3.2042, -3.8884, -4.4396, -4.4397, -5.1395, -5.0657, -5.0953, -5.135, -5.0914, -5.2155, -5.2618, -5.4279, -5.6173, -5.6422, -5.626, -5.5211, -5.8212, -5.764, -5.8541, -6.0125, -6.0653, -5.7635, -6.1189, -6.1325, -6.1618, -6.2672, -6.2841, -6.351, -6.3697, -6.3699, -4.9053, -4.2464, -4.9582, -3.545, -4.2459, -4.5456, -4.7488, -3.4016, -5.6182, -5.3185, -5.0587, -5.1703, -5.5334, -5.4204, -5.3776, -5.4659, -5.472, -5.4988, -5.4928], \"loglift\": [30.0, 29.0, 28.0, 27.0, 26.0, 25.0, 24.0, 23.0, 22.0, 21.0, 20.0, 19.0, 18.0, 17.0, 16.0, 15.0, 14.0, 13.0, 12.0, 11.0, 10.0, 9.0, 8.0, 7.0, 6.0, 5.0, 4.0, 3.0, 2.0, 1.0, 0.894, 0.8932, 0.8921, 0.8915, 0.8896, 0.8893, 0.8835, 0.8826, 0.8799, 0.8795, 0.8789, 0.8776, 0.8764, 0.8724, 0.872, 0.8694, 0.8691, 0.8686, 0.8682, 0.866, 0.8644, 0.8629, 0.8622, 0.8608, 0.8602, 0.8592, 0.8587, 0.8574, 0.8562, 0.8553, 0.793, 0.7898, 0.7586, 0.7189, 0.6615, 0.6865, 0.4634, 0.58, 0.497, 0.5917, -0.0099, 0.702, 0.1008, 0.6026, -0.3077, 0.3523, 0.5658, -0.2521, -0.6655, -0.1189, -0.2204, -0.1936, -0.0721, 1.0652, 1.0642, 1.0639, 1.0634, 1.0606, 1.0586, 1.058, 1.0576, 1.0544, 1.0479, 1.0458, 1.0456, 1.0384, 1.0365, 1.0318, 1.0251, 1.0196, 1.0144, 0.9956, 0.9905, 0.9839, 0.9819, 0.9817, 0.9806, 0.9801, 0.9777, 0.9679, 0.9648, 0.9644, 0.9573, 0.9551, 0.893, 0.8718, 0.8243, 0.8073, 0.5043, 0.7077, 0.6566, 0.6132, 0.6411, 0.4613, 0.5645, 0.1866, 0.6239, 0.7407, 0.5044, -0.2523, -0.0544, -0.3807, 1.3952, 1.3928, 1.3898, 1.3897, 1.3825, 1.3823, 1.3821, 1.382, 1.381, 1.3808, 1.3795, 1.3759, 1.3729, 1.3724, 1.3723, 1.368, 1.3674, 1.367, 1.365, 1.3617, 1.3586, 1.3578, 1.356, 1.3556, 1.3545, 1.3508, 1.3492, 1.3464, 1.3449, 1.3447, 1.3267, 1.154, 1.1135, 0.8477, 0.7632, 0.8496, 0.8359, 0.1416, 1.0643, 0.8109, 0.3931, 0.4258, 0.7006, 0.3581, 0.0791, 0.2745, -0.4962, -0.8654, -1.2053]}, \"token.table\": {\"Topic\": [1, 1, 2, 3, 1, 2, 3, 3, 2, 3, 1, 3, 1, 2, 3, 1, 2, 3, 2, 2, 1, 2, 3, 3, 3, 3, 1, 2, 3, 3, 1, 2, 3, 1, 3, 1, 3, 1, 1, 1, 2, 3, 3, 1, 1, 2, 1, 2, 1, 3, 1, 1, 1, 1, 2, 3, 1, 1, 2, 3, 3, 2, 1, 3, 2, 3, 1, 2, 3, 2, 3, 1, 1, 2, 3, 2, 3, 2, 3, 3, 2, 3, 3, 3, 1, 3, 2, 1, 2, 2, 2, 1, 3, 1, 3, 1, 3, 1, 1, 1, 2, 3, 2, 2, 1, 3, 1, 2, 3, 3, 1, 2, 3, 1, 2, 2, 2, 2, 3, 1, 3, 1, 3, 2, 3, 3, 1, 1, 2, 3, 1, 1, 2, 1, 2, 3, 2, 1, 2, 3, 2, 1, 2, 3, 1, 1, 1, 2, 3, 2, 1, 2, 3, 2, 2, 1, 2, 3, 3, 1, 2, 3, 2, 3, 2, 3, 1, 2, 2, 3, 1, 2, 3, 1, 3, 2, 1, 1, 2, 1, 1, 2, 3, 1, 2, 1, 3, 3, 3, 3, 2, 3, 1, 2, 2, 1, 3, 1, 3, 1, 3, 3, 3, 1, 2, 3, 1, 2, 3], \"Freq\": [0.950743896314924, 0.8366765262919311, 0.05432964456441111, 0.10865928912882222, 0.4522613138462734, 0.5451917208009871, 0.00309768023182379, 0.9747539201590254, 0.271786746527688, 0.7066455409719887, 0.9980500465081626, 0.0014217237129745906, 0.300178999423625, 0.4143647364592785, 0.28487575631575396, 0.03464282788243693, 0.03464282788243693, 0.935356352825797, 0.9588854300530628, 0.8820615829721192, 0.31654786841810545, 0.10459842608598267, 0.5780439336330622, 0.9697331997520079, 0.9845734344400194, 0.9959383964020313, 0.40439676517130446, 0.5704021198478304, 0.0250938326836609, 0.9953384606676946, 0.2345356142169086, 0.2345356142169086, 0.530254432142576, 0.23608620330114088, 0.7525247730223866, 0.21114000138504063, 0.7842342908587224, 0.979584375743737, 0.9850135107102425, 0.9565702176711843, 0.938415212397627, 0.9690364127903361, 0.9903696567476608, 0.995114279330937, 0.0017776668270564691, 0.9972710899786792, 0.6709403278099599, 0.32390222721860135, 0.943461085048595, 0.04288459477493614, 0.9480630203383575, 0.9566921471734622, 0.9949595161562306, 0.10942658877367936, 0.3439121361458494, 0.5627653136932081, 0.9607384855829832, 0.17226936126268605, 0.26293744613778397, 0.571208934713117, 0.9918371748790976, 0.9871928019723567, 0.9488967622008202, 0.03388917007860072, 0.948983681743284, 0.9696701161564645, 0.3622941837327479, 0.6371380472541428, 0.9769932946143118, 0.9742803554745427, 0.9912184776921337, 0.9684028468242966, 0.6484306903564221, 0.2670008724997032, 0.08391455992847816, 0.7233340040774267, 0.2646343917356439, 0.9688206596174642, 0.023067158562320576, 0.9154814504926571, 0.8929786642759662, 0.10505631344423132, 0.9723926341722876, 0.9384459329955205, 0.7195815983985057, 0.2698430993994396, 0.9587627351628479, 0.967784661614761, 0.9913511441348989, 0.8886148078673596, 0.9945760932359063, 0.5033093715984038, 0.5033093715984038, 0.9820062398557224, 0.01722817964659162, 0.7363823055784023, 0.26129694714072343, 0.9983480668734325, 0.9533140543636088, 0.21043319379149258, 0.7855375472784695, 0.004782572586170286, 0.8887187443339155, 0.9973586368375323, 0.978061185772243, 0.9910743001694456, 0.3387451239264495, 0.6035822208144009, 0.055431020278873554, 0.9888149626005681, 0.8722697283291799, 0.1267400459965475, 0.007455296823326324, 0.9648825518294953, 0.9664221367794106, 0.9932175569734617, 0.9763362337187881, 0.04214551478705265, 0.9693468401022108, 0.9994520674411023, 0.0012603430863065601, 0.8152428931747446, 0.18813297534801798, 0.6383573123399692, 0.3521971378427416, 0.9604737219324729, 0.9423258872711167, 0.8186070426518429, 0.1637214085303686, 0.9740778544096512, 0.9593680475062462, 0.08694667272456846, 0.9067295869847855, 0.25320943853802186, 0.6501323421922183, 0.08896547840525092, 0.9542377488145547, 0.28215619077732657, 0.6970917654498656, 0.016597422986901565, 0.9989352823301729, 0.17601323055986848, 0.8250620182493834, 0.9690482988483909, 0.9793559719905538, 0.992620358096, 0.35765973005605406, 0.26595210696475813, 0.3760012546743132, 0.8808879529620988, 0.3278660227329989, 0.6663083687799655, 0.010576323313967706, 0.9140712994492337, 0.9295846099504863, 0.10593631163424956, 0.5720560828249477, 0.32840256606617363, 0.9959389848120689, 0.5794639409553984, 0.055565035434079306, 0.3651416614239497, 0.9993020431679989, 0.9818892685967091, 0.9464305342305199, 0.045068120677643805, 0.009407016901010102, 0.9877367746060607, 0.995223127994161, 0.9612074812962434, 0.3825809609033717, 0.045009524812161375, 0.5776222350894044, 0.9813345401758661, 0.02652255513988827, 0.9882537895574062, 0.9979964442076338, 0.8998442076810997, 0.09690629928873382, 0.9926412969377322, 0.0842471863239727, 0.8399940048184337, 0.07433575263879943, 0.7501796281356891, 0.2550610735661343, 0.7259422943865168, 0.2712311869136436, 0.9154285750366771, 0.975999180608569, 0.9972658231452814, 0.8968994292775656, 0.04982774607097587, 0.9833528927150251, 0.014461071951691546, 0.9772544951422379, 0.952785985103745, 0.9788785070649214, 0.9018864168634566, 0.09556412364116097, 0.9798911276486307, 0.9850105981932723, 0.9732304044830665, 0.9984530822619634, 0.7940041830942106, 0.059180436007021914, 0.15288279301813992, 0.05599973827114454, 0.7653297563723086, 0.18666579423714846], \"Term\": [\"aamiin\", \"alhamdulillah\", \"alhamdulillah\", \"alhamdulillah\", \"aman\", \"aman\", \"aman\", \"ambil\", \"asli\", \"asli\", \"awet\", \"awet\", \"bagus\", \"bagus\", \"bagus\", \"baguss\", \"baguss\", \"baguss\", \"baguus\", \"baikpengiriman\", \"banget\", \"banget\", \"banget\", \"bangettt\", \"bangetttt\", \"bank\", \"barang\", \"barang\", \"barang\", \"bawa\", \"beli\", \"beli\", \"beli\", \"berat\", \"berat\", \"bgt\", \"bgt\", \"bintang\", \"blm\", \"bom\", \"buble\", \"cakep\", \"cantik\", \"cas\", \"cepat\", \"cepat\", \"cepet\", \"cepet\", \"charge\", \"charge\", \"charger\", \"chat\", \"coba\", \"dapet\", \"dapet\", \"dapet\", \"dateng\", \"deh\", \"deh\", \"deh\", \"desain\", \"deskripsi\", \"dipake\", \"dipake\", \"ekspektasi\", \"elegan\", \"emas\", \"emas\", \"enak\", \"flash\", \"foto\", \"full\", \"fungsi\", \"fungsi\", \"fungsi\", \"gambar\", \"gambar\", \"good\", \"good\", \"green\", \"harga\", \"harga\", \"hijau\", \"ijo\", \"isi\", \"isi\", \"jakarta\", \"jam\", \"jangkau\", \"jasa\", \"jual\", \"kabel\", \"kabel\", \"kak\", \"kak\", \"kali\", \"kali\", \"kasih\", \"kendala\", \"kirim\", \"kirim\", \"kirim\", \"krna\", \"kualitas\", \"lampu\", \"lucu\", \"lumayan\", \"lumayan\", \"lumayan\", \"maaf\", \"makasih\", \"makasih\", \"makasih\", \"manfaat\", \"mantab\", \"mantap\", \"mantul\", \"merk\", \"merk\", \"moga\", \"moga\", \"mudah\", \"mudah\", \"murah\", \"murah\", \"nilai\", \"nyala\", \"nyampe\", \"nyampe\", \"nyesel\", \"official\", \"ok\", \"ok\", \"oke\", \"oke\", \"oke\", \"online\", \"ori\", \"ori\", \"ori\", \"original\", \"packing\", \"packing\", \"packingnya\", \"pake\", \"paket\", \"pas\", \"pas\", \"pas\", \"pes\", \"pesan\", \"pesan\", \"pesan\", \"pke\", \"pngiriman\", \"pokok\", \"pokok\", \"pokok\", \"power\", \"powerbank\", \"powerbank\", \"powerbank\", \"produk\", \"putih\", \"ramah\", \"ramah\", \"rapi\", \"rapi\", \"respon\", \"ringan\", \"robot\", \"robot\", \"robot\", \"rusak\", \"rusak\", \"sale\", \"sampe\", \"selamat\", \"selamat\", \"sen\", \"sesuai\", \"sesuai\", \"sesuai\", \"shopee\", \"shopee\", \"sih\", \"sih\", \"simple\", \"slim\", \"suka\", \"super\", \"super\", \"terima\", \"terima\", \"terimakasihh\", \"tgl\", \"top\", \"udah\", \"udah\", \"udh\", \"ungu\", \"video\", \"warna\", \"ya\", \"ya\", \"ya\", \"you\", \"you\", \"you\"]}, \"R\": 30, \"lambda.step\": 0.01, \"plot.opts\": {\"xlab\": \"PC1\", \"ylab\": \"PC2\"}, \"topic.order\": [1, 3, 2]};\n",
       "\n",
       "function LDAvis_load_lib(url, callback){\n",
       "  var s = document.createElement('script');\n",
       "  s.src = url;\n",
       "  s.async = true;\n",
       "  s.onreadystatechange = s.onload = callback;\n",
       "  s.onerror = function(){console.warn(\"failed to load library \" + url);};\n",
       "  document.getElementsByTagName(\"head\")[0].appendChild(s);\n",
       "}\n",
       "\n",
       "if(typeof(LDAvis) !== \"undefined\"){\n",
       "   // already loaded: just create the visualization\n",
       "   !function(LDAvis){\n",
       "       new LDAvis(\"#\" + \"ldavis_el1168817957047653442219318275\", ldavis_el1168817957047653442219318275_data);\n",
       "   }(LDAvis);\n",
       "}else if(typeof define === \"function\" && define.amd){\n",
       "   // require.js is available: use it to load d3/LDAvis\n",
       "   require.config({paths: {d3: \"https://d3js.org/d3.v5\"}});\n",
       "   require([\"d3\"], function(d3){\n",
       "      window.d3 = d3;\n",
       "      LDAvis_load_lib(\"https://cdn.jsdelivr.net/gh/bmabey/pyLDAvis/pyLDAvis/js/ldavis.v3.0.0.js\", function(){\n",
       "        new LDAvis(\"#\" + \"ldavis_el1168817957047653442219318275\", ldavis_el1168817957047653442219318275_data);\n",
       "      });\n",
       "    });\n",
       "}else{\n",
       "    // require.js not available: dynamically load d3 & LDAvis\n",
       "    LDAvis_load_lib(\"https://d3js.org/d3.v5.js\", function(){\n",
       "         LDAvis_load_lib(\"https://cdn.jsdelivr.net/gh/bmabey/pyLDAvis/pyLDAvis/js/ldavis.v3.0.0.js\", function(){\n",
       "                 new LDAvis(\"#\" + \"ldavis_el1168817957047653442219318275\", ldavis_el1168817957047653442219318275_data);\n",
       "            })\n",
       "         });\n",
       "}\n",
       "</script>"
      ],
      "text/plain": [
       "PreparedData(topic_coordinates=              x         y  topics  cluster       Freq\n",
       "topic                                                \n",
       "0     -0.004121 -0.180748       1        1  40.855174\n",
       "2     -0.182441  0.093402       2        1  34.424407\n",
       "1      0.186562  0.087346       3        1  24.720419, topic_info=       Term        Freq       Total Category  logprob  loglift\n",
       "111    moga  793.000000  793.000000  Default  30.0000  30.0000\n",
       "105  produk  588.000000  588.000000  Default  29.0000  29.0000\n",
       "23     awet  703.000000  703.000000  Default  28.0000  28.0000\n",
       "70    cepat  562.000000  562.000000  Default  27.0000  27.0000\n",
       "55    kirim  836.000000  836.000000  Default  26.0000  26.0000\n",
       "..      ...         ...         ...      ...      ...      ...\n",
       "203     sih   33.538740  125.354316   Topic3  -5.3776   0.0791\n",
       "380   pokok   30.704919   94.396339   Topic3  -5.4659   0.2745\n",
       "156      ya   30.517694  202.769713   Topic3  -5.4720  -0.4962\n",
       "48    harga   29.712346  285.561134   Topic3  -5.4988  -0.8654\n",
       "37   sesuai   29.888619  403.574309   Topic3  -5.4928  -1.2053\n",
       "\n",
       "[181 rows x 6 columns], token_table=      Topic      Freq           Term\n",
       "term                                \n",
       "862       1  0.950744         aamiin\n",
       "0         1  0.836677  alhamdulillah\n",
       "0         2  0.054330  alhamdulillah\n",
       "0         3  0.108659  alhamdulillah\n",
       "1         1  0.452261           aman\n",
       "...     ...       ...            ...\n",
       "156       2  0.059180             ya\n",
       "156       3  0.152883             ya\n",
       "97        1  0.056000            you\n",
       "97        2  0.765330            you\n",
       "97        3  0.186666            you\n",
       "\n",
       "[209 rows x 3 columns], R=30, lambda_step=0.01, plot_opts={'xlab': 'PC1', 'ylab': 'PC2'}, topic_order=[1, 3, 2])"
      ]
     },
     "execution_count": 41,
     "metadata": {},
     "output_type": "execute_result"
    }
   ],
   "source": [
    "# proses ini mungkin agak lama \n",
    "LDAvis_prepared"
   ]
  },
  {
   "cell_type": "code",
   "execution_count": null,
   "id": "ea210601",
   "metadata": {},
   "outputs": [],
   "source": []
  }
 ],
 "metadata": {
  "kernelspec": {
   "display_name": "Python 3 (ipykernel)",
   "language": "python",
   "name": "python3"
  },
  "language_info": {
   "codemirror_mode": {
    "name": "ipython",
    "version": 3
   },
   "file_extension": ".py",
   "mimetype": "text/x-python",
   "name": "python",
   "nbconvert_exporter": "python",
   "pygments_lexer": "ipython3",
   "version": "3.9.12"
  }
 },
 "nbformat": 4,
 "nbformat_minor": 5
}
